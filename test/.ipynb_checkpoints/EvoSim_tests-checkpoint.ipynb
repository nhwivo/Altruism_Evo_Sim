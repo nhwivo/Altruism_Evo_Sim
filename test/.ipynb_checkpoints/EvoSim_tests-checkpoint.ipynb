{
 "cells": [
  {
   "cell_type": "code",
   "execution_count": 2,
   "id": "a3a69e42-59c6-4ea2-b15e-565c9cdec90b",
   "metadata": {},
   "outputs": [],
   "source": [
    "!python ../EvoSim/Population.py"
   ]
  },
  {
   "cell_type": "code",
   "execution_count": 3,
   "id": "51d486d8-263a-4641-89c4-57066970ac30",
   "metadata": {},
   "outputs": [
    {
     "name": "stdout",
     "output_type": "stream",
     "text": [
      "Output: [10, 1, 1, 55, 0]\n",
      "Should be: [10, <random int from 0:1>, 1, 55, 0]\n"
     ]
    }
   ],
   "source": [
    "!python ../EvoSim/Individual.py"
   ]
  },
  {
   "cell_type": "code",
   "execution_count": 4,
   "id": "21a3f24b-9a35-45d8-bfb6-f6ad999d8f48",
   "metadata": {},
   "outputs": [
    {
     "name": "stdout",
     "output_type": "stream",
     "text": [
      "Output: [4, 4, False]\n",
      "Should be: [4, 4, False]\n"
     ]
    }
   ],
   "source": [
    "!python ../EvoSim/FoodSource.py"
   ]
  },
  {
   "cell_type": "code",
   "execution_count": null,
   "id": "cbece510-e259-4777-9904-70f8221c0dac",
   "metadata": {},
   "outputs": [],
   "source": []
  }
 ],
 "metadata": {
  "kernelspec": {
   "display_name": "Python 3.9 (Default)",
   "language": "python",
   "name": "python3"
  },
  "language_info": {
   "codemirror_mode": {
    "name": "ipython",
    "version": 3
   },
   "file_extension": ".py",
   "mimetype": "text/x-python",
   "name": "python",
   "nbconvert_exporter": "python",
   "pygments_lexer": "ipython3",
   "version": "3.9.7"
  }
 },
 "nbformat": 4,
 "nbformat_minor": 5
}
