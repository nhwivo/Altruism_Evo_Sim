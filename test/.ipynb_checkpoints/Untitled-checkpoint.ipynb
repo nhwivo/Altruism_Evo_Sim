{
 "cells": [
  {
   "cell_type": "code",
   "execution_count": null,
   "id": "a3a69e42-59c6-4ea2-b15e-565c9cdec90b",
   "metadata": {},
   "outputs": [],
   "source": []
  }
 ],
 "metadata": {
  "kernelspec": {
   "display_name": "Python 3.9 (Default)",
   "language": "python",
   "name": "python3"
  },
  "language_info": {
   "codemirror_mode": {
    "name": "ipython",
    "version": 3
   },
   "file_extension": ".py",
   "mimetype": "text/x-python",
   "name": "python",
   "nbconvert_exporter": "python",
   "pygments_lexer": "ipython3",
   "version": "3.9.7"
  }
 },
 "nbformat": 4,
 "nbformat_minor": 5
}
