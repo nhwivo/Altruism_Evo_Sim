{
 "cells": [
  {
   "cell_type": "code",
   "execution_count": 51,
   "id": "a3a69e42-59c6-4ea2-b15e-565c9cdec90b",
   "metadata": {},
   "outputs": [
    {
     "name": "stdout",
     "output_type": "stream",
     "text": [
      "FoodPopulation Class Tests:\n",
      "Number of starting population: 10 - Should be 10\n",
      "Predator presence data: [False, False, False, False, False, False, False, False, True, False]\n",
      "\n",
      "IndividualPopulation Class Tests:\n",
      "Number of starting population: 10 - Should be 10\n"
     ]
    }
   ],
   "source": [
    "!python ../EvoSim/Population.py"
   ]
  },
  {
   "cell_type": "code",
   "execution_count": 105,
   "id": "51d486d8-263a-4641-89c4-57066970ac30",
   "metadata": {},
   "outputs": [
    {
     "name": "stdout",
     "output_type": "stream",
     "text": [
      "Values in list below should not be greater than 3\n",
      "Sum of gene points in each individual: [2, 3, 3, 2, 1]\n"
     ]
    }
   ],
   "source": [
    "!python ../EvoSim/Individual.py"
   ]
  },
  {
   "cell_type": "code",
   "execution_count": 4,
   "id": "21a3f24b-9a35-45d8-bfb6-f6ad999d8f48",
   "metadata": {},
   "outputs": [
    {
     "name": "stdout",
     "output_type": "stream",
     "text": [
      "Output: [4, 4, False]\n",
      "Should be: [4, 4, False]\n"
     ]
    }
   ],
   "source": [
    "!python ../EvoSim/FoodSource.py"
   ]
  },
  {
   "cell_type": "code",
   "execution_count": 41,
   "id": "1c3c44e6-b115-4806-b066-20bf1f680700",
   "metadata": {},
   "outputs": [
    {
     "name": "stdout",
     "output_type": "stream",
     "text": [
      "{'mutation rate': None, 'sense food': None, 'altruism': None, 'energy': None, 'altruistic trait': None, 'sense predator': None, 'run away': None}\n"
     ]
    },
    {
     "ename": "KeyboardInterrupt",
     "evalue": "",
     "output_type": "error",
     "traceback": [
      "\u001b[0;31m---------------------------------------------------------------------------\u001b[0m",
      "\u001b[0;31mKeyboardInterrupt\u001b[0m                         Traceback (most recent call last)",
      "\u001b[0;32m/tmp/ipykernel_52698/751601032.py\u001b[0m in \u001b[0;36m<module>\u001b[0;34m\u001b[0m\n\u001b[1;32m     11\u001b[0m \u001b[0;32mwhile\u001b[0m \u001b[0mvalue\u001b[0m \u001b[0;34m>\u001b[0m \u001b[0;36m0\u001b[0m\u001b[0;34m:\u001b[0m\u001b[0;34m\u001b[0m\u001b[0;34m\u001b[0m\u001b[0m\n\u001b[1;32m     12\u001b[0m     \u001b[0;32mfor\u001b[0m \u001b[0mkey\u001b[0m \u001b[0;32min\u001b[0m \u001b[0mgene\u001b[0m\u001b[0;34m:\u001b[0m\u001b[0;34m\u001b[0m\u001b[0;34m\u001b[0m\u001b[0m\n\u001b[0;32m---> 13\u001b[0;31m         \u001b[0;32mif\u001b[0m \u001b[0mgene\u001b[0m\u001b[0;34m[\u001b[0m\u001b[0mkey\u001b[0m\u001b[0;34m]\u001b[0m \u001b[0;34m==\u001b[0m \u001b[0;34m'bool'\u001b[0m \u001b[0;32mand\u001b[0m \u001b[0mgene\u001b[0m\u001b[0;34m[\u001b[0m\u001b[0mkey\u001b[0m\u001b[0;34m]\u001b[0m \u001b[0;34m!=\u001b[0m \u001b[0;36m1\u001b[0m\u001b[0;34m:\u001b[0m\u001b[0;34m\u001b[0m\u001b[0;34m\u001b[0m\u001b[0m\n\u001b[0m\u001b[1;32m     14\u001b[0m             \u001b[0mgene\u001b[0m\u001b[0;34m[\u001b[0m\u001b[0mkey\u001b[0m\u001b[0;34m]\u001b[0m \u001b[0;34m=\u001b[0m \u001b[0mrandom\u001b[0m\u001b[0;34m.\u001b[0m\u001b[0mrandint\u001b[0m\u001b[0;34m(\u001b[0m\u001b[0;36m0\u001b[0m\u001b[0;34m,\u001b[0m\u001b[0;36m1\u001b[0m\u001b[0;34m)\u001b[0m\u001b[0;34m\u001b[0m\u001b[0;34m\u001b[0m\u001b[0m\n\u001b[1;32m     15\u001b[0m             \u001b[0;32mif\u001b[0m \u001b[0mgene\u001b[0m\u001b[0;34m[\u001b[0m\u001b[0mkey\u001b[0m\u001b[0;34m]\u001b[0m \u001b[0;34m==\u001b[0m \u001b[0;36m1\u001b[0m\u001b[0;34m:\u001b[0m \u001b[0mvalue\u001b[0m \u001b[0;34m-=\u001b[0m \u001b[0;36m1\u001b[0m\u001b[0;34m\u001b[0m\u001b[0;34m\u001b[0m\u001b[0m\n",
      "\u001b[0;31mKeyboardInterrupt\u001b[0m: "
     ]
    }
   ],
   "source": [
    "import random\n",
    "test = {'mutation rate': 'range', 'sense food': 'range', 'altruism': 'bool', 'energy': 'range', 'altruistic trait': 'bool', 'sense predator': 'range', 'run away': 'range'}\n",
    "gene = {'mutation rate': 'range', 'sense food': 'range', 'altruism': 'bool', 'energy': 'range', 'altruistic trait': 'bool', 'sense predator': 'range', 'run away': 'range'}\n",
    "gene = { k:v for (k,v) in zip(test.keys(), [None for x in range(len(test))])}\n",
    "\n",
    "print(gene)\n",
    "first = False\n",
    "\n",
    "value = 10\n",
    "\n",
    "while value > 0:\n",
    "    for key in gene:\n",
    "        if gene[key] == 'bool' and gene[key] != 1:\n",
    "            gene[key] = random.randint(0,1)\n",
    "            if gene[key] == 1: value -= 1\n",
    "        if gene[key] == 'range':\n",
    "            if gene[key] == None:  # first time number is assigned\n",
    "                gene[key] = random.randint(0,10)\n",
    "                value -= gene[key]\n",
    "                \n",
    "            else:  # there is already a value assigned\n",
    "                prev_key = gene[key]\n",
    "                left = 10 - prev_key  # value until gene reaches max \n",
    "                if left<=value:\n",
    "                    gene[key] += random.randint(0,left)\n",
    "                else:\n",
    "                    gene[key] += random.randint(0,value)\n",
    "                value -= (gene[key] - prev_key)\n",
    "                \n",
    "                \n",
    "        \n",
    "            \n",
    "\n",
    "print(gene)"
   ]
  },
  {
   "cell_type": "code",
   "execution_count": 24,
   "id": "8d118c94-73db-44eb-aa50-5c74fb364353",
   "metadata": {},
   "outputs": [
    {
     "name": "stdout",
     "output_type": "stream",
     "text": [
      "{'a': 1, 'b': 2, 'c': 3, 'd': 4, 'e': 5}\n"
     ]
    }
   ],
   "source": [
    "keys = ['a','b','c','d','e']\n",
    "values = [1,2,3,4,5] \n",
    " \n",
    "# but this line shows dict comprehension here \n",
    "myDict = { k:v for (k,v) in zip(keys, values)} \n",
    " \n",
    "# We can use below too\n",
    "# myDict = dict(zip(keys, values)) \n",
    " \n",
    "print (myDict)"
   ]
  },
  {
   "cell_type": "code",
   "execution_count": 33,
   "id": "c3e12721-fca2-4ad3-bd28-8ee46c3fe96a",
   "metadata": {},
   "outputs": [
    {
     "name": "stdout",
     "output_type": "stream",
     "text": [
      "2\n",
      "5\n",
      "5\n",
      "5\n",
      "3\n",
      "2\n",
      "4\n",
      "3\n",
      "2\n",
      "2\n",
      "4\n",
      "3\n",
      "3\n",
      "5\n",
      "3\n",
      "3\n",
      "1\n",
      "5\n",
      "0\n",
      "1\n"
     ]
    }
   ],
   "source": [
    "for x in range(20): \n",
    "    print(random.randint(0,5))"
   ]
  },
  {
   "cell_type": "code",
   "execution_count": null,
   "id": "caae42a5-c5e9-437c-9fb5-866460c7a463",
   "metadata": {},
   "outputs": [],
   "source": []
  }
 ],
 "metadata": {
  "kernelspec": {
   "display_name": "Python 3.9 (Default)",
   "language": "python",
   "name": "python3"
  },
  "language_info": {
   "codemirror_mode": {
    "name": "ipython",
    "version": 3
   },
   "file_extension": ".py",
   "mimetype": "text/x-python",
   "name": "python",
   "nbconvert_exporter": "python",
   "pygments_lexer": "ipython3",
   "version": "3.9.7"
  }
 },
 "nbformat": 4,
 "nbformat_minor": 5
}
