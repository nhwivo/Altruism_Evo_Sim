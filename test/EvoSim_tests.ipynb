{
 "cells": [
  {
   "cell_type": "code",
   "execution_count": 9,
   "id": "a3a69e42-59c6-4ea2-b15e-565c9cdec90b",
   "metadata": {},
   "outputs": [
    {
     "name": "stdout",
     "output_type": "stream",
     "text": [
      "FoodPopulation Class Tests:\n",
      "Number of starting population: 10 - Should be 10\n",
      "Predator presence data: [True, False, True, False, True, False, True, False, True, False]\n",
      "\n",
      "IndividualPopulation Class Tests:\n",
      "Number of starting population: 10 - Should be 10\n"
     ]
    }
   ],
   "source": [
    "!python ../EvoSim/Population.py"
   ]
  },
  {
   "cell_type": "code",
   "execution_count": 2,
   "id": "51d486d8-263a-4641-89c4-57066970ac30",
   "metadata": {},
   "outputs": [
    {
     "name": "stdout",
     "output_type": "stream",
     "text": [
      "Output: [10, 1, 1, 55, 0]\n",
      "Should be: [10, <random int from 0:1>, 1, 55, 0]\n",
      "\n",
      "Genes attribute: {'altruism': 1, 'altruistic marker': 0}\n"
     ]
    }
   ],
   "source": [
    "!python ../EvoSim/Individual.py"
   ]
  },
  {
   "cell_type": "code",
   "execution_count": 3,
   "id": "21a3f24b-9a35-45d8-bfb6-f6ad999d8f48",
   "metadata": {},
   "outputs": [
    {
     "name": "stdout",
     "output_type": "stream",
     "text": [
      "[True, False, False, False, False]\n"
     ]
    }
   ],
   "source": [
    "!python ../EvoSim/FoodSource.py"
   ]
  },
  {
   "cell_type": "code",
   "execution_count": 6,
   "id": "caae42a5-c5e9-437c-9fb5-866460c7a463",
   "metadata": {},
   "outputs": [
    {
     "name": "stdout",
     "output_type": "stream",
     "text": [
      "Number of ind before the day: 20\n",
      "List of ind statuses: [1, 1, 1, 1, 1, 1, 1, 1, 1, 1, 1, 1, 1, 1, 1, 1, 1, 1, 1, 1]\n",
      "Number of food before the day: 23\n",
      "\n",
      "Number of ind after the day: 13\n",
      "List of ind statuses: [1, 1, 1, 1, 1, 1, 1, 1, 1, 1, 1, 1, 1]\n",
      "Number of food after the day: 23\n",
      "\n",
      "Number of ind after the day: 8\n",
      "List of ind statuses: [1, 1, 1, 1, 1, 1, 1, 1]\n",
      "Number of food after the day: 23\n",
      "\n"
     ]
    }
   ],
   "source": [
    "!python ../EvoSim/Simulation.py"
   ]
  },
  {
   "cell_type": "code",
   "execution_count": null,
   "id": "a4a3e6f7-c4cd-4180-a87f-ec4ced53752d",
   "metadata": {},
   "outputs": [],
   "source": []
  }
 ],
 "metadata": {
  "kernelspec": {
   "display_name": "Python 3.9 (Default)",
   "language": "python",
   "name": "python3"
  },
  "language_info": {
   "codemirror_mode": {
    "name": "ipython",
    "version": 3
   },
   "file_extension": ".py",
   "mimetype": "text/x-python",
   "name": "python",
   "nbconvert_exporter": "python",
   "pygments_lexer": "ipython3",
   "version": "3.9.7"
  }
 },
 "nbformat": 4,
 "nbformat_minor": 5
}
