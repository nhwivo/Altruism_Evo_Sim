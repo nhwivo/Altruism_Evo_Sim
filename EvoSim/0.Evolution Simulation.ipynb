{
 "cells": [
  {
   "cell_type": "code",
   "execution_count": 61,
   "id": "a4b02e48-904f-4686-9b43-60e0896cfbb7",
   "metadata": {},
   "outputs": [
    {
     "name": "stdout",
     "output_type": "stream",
     "text": [
      "All data below are collected at the end of the simulation.\n",
      "\n",
      "Number of individuals: 28\n",
      "Status of individuals - should be 1: [1, 1, 1, 1, 1, 1, 1, 1, 1, 1, 1, 1, 1, 1, 1, 1, 1, 1, 1, 1, 1, 1, 1, 1, 1, 1, 1, 1]\n",
      "Age of individuals: [55, 31, 34, 34, 34, 34, 34, 34, 33, 32, 32, 31, 31, 31, 31, 30, 28, 27, 26, 25, 25, 25, 25, 25, 24, 24, 23, 23]\n",
      "\n",
      "Individual population number for all days and all runs: \n",
      "[[100, 100, 100, 100, 100, 100, 100, 100, 100, 100, 100, 100, 100, 100, 100, 96, 101, 98, 95, 93, 91, 90, 84, 82, 83, 86, 86, 84, 83, 82, 78, 78, 77, 73, 69, 65, 63, 59, 55, 53, 50, 47, 45, 40, 37, 34, 32, 30, 29, 28]]\n",
      "\n",
      "Number of food sources: 8\n",
      "Predator presence in food source:  [False, False, False, False, False, True, False, False]\n",
      "Food unit - should be 4: [4, 4, 4, 4, 4, 4, 4, 4]\n",
      "\n",
      "Food source population number for all days and all runs: \n",
      "[[25, 25, 25, 25, 25, 25, 25, 25, 25, 25, 25, 25, 25, 25, 25, 25, 24, 26, 25, 24, 24, 23, 23, 21, 21, 21, 22, 22, 21, 21, 21, 20, 20, 20, 19, 18, 17, 16, 15, 14, 14, 13, 12, 12, 10, 10, 9, 8, 8, 8]]\n"
     ]
    }
   ],
   "source": [
    "!python test_evomain.py 100 50"
   ]
  },
  {
   "cell_type": "code",
   "execution_count": null,
   "id": "8acd2241-137e-464b-8f93-b63882f72d23",
   "metadata": {},
   "outputs": [],
   "source": []
  }
 ],
 "metadata": {
  "kernelspec": {
   "display_name": "Python 3.9 (Default)",
   "language": "python",
   "name": "python3"
  },
  "language_info": {
   "codemirror_mode": {
    "name": "ipython",
    "version": 3
   },
   "file_extension": ".py",
   "mimetype": "text/x-python",
   "name": "python",
   "nbconvert_exporter": "python",
   "pygments_lexer": "ipython3",
   "version": "3.9.7"
  }
 },
 "nbformat": 4,
 "nbformat_minor": 5
}
