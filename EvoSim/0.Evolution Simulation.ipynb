{
 "cells": [
  {
   "cell_type": "code",
   "execution_count": 50,
   "id": "a4b02e48-904f-4686-9b43-60e0896cfbb7",
   "metadata": {},
   "outputs": [
    {
     "name": "stdout",
     "output_type": "stream",
     "text": [
      "Traceback (most recent call last):\n",
      "  File \"/scratch/brown/vo21/Evo_Sim/EvoSim/EvoSim/evo_main.py\", line 26, in <module>\n",
      "    My_Sim.run_sim()  # run the simulation \n",
      "  File \"/scratch/brown/vo21/Evo_Sim/EvoSim/EvoSim/Simulation.py\", line 78, in run_sim\n",
      "    self.record_sim_data()  # record data of the whole simulation (all runs all days)\n",
      "  File \"/scratch/brown/vo21/Evo_Sim/EvoSim/EvoSim/Simulation.py\", line 132, in record_sim_data\n",
      "    self.og_individual_pop.cal_pop_growth()  # calculate population growth \n",
      "  File \"/scratch/brown/vo21/Evo_Sim/EvoSim/EvoSim/Population.py\", line 81, in cal_pop_growth\n",
      "    growth = (current_pnum/prev_pop_num)\n",
      "ZeroDivisionError: division by zero\n"
     ]
    }
   ],
   "source": [
    "!python evo_main.py 10 100 1"
   ]
  },
  {
   "cell_type": "code",
   "execution_count": 51,
   "id": "1ca96912-5112-499f-ad80-d6d49516f99a",
   "metadata": {},
   "outputs": [
    {
     "data": {
      "image/png": "[encoded data removed]",
      "text/plain": [
       "<Figure size 504x252 with 1 Axes>"
      ]
     },
     "metadata": {
      "needs_background": "light"
     },
     "output_type": "display_data"
    }
   ],
   "source": [
    "fname1 = \"sim_output/ind_population_data.csv\"\n",
    "fname2 = \"sim_output/fsource_population_data.csv\"\n",
    "\n",
    "graph_plots(fname1, fname2)"
   ]
  },
  {
   "cell_type": "code",
   "execution_count": 3,
   "id": "25db0718-f408-42c8-a87e-d196d4ba95b2",
   "metadata": {},
   "outputs": [],
   "source": [
    "import pandas as pd\n",
    "from matplotlib import pyplot as plt\n",
    "import subprocess\n",
    "\n",
    "def graph_evo_out(fname):\n",
    "    # Set the figure size\n",
    "    plt.rcParams[\"figure.figsize\"] = [7.00, 3.50]\n",
    "    plt.rcParams[\"figure.autolayout\"] = True\n",
    "\n",
    "    # Make a list of columns\n",
    "    command = \"head -n 1 \" + fname + \" | cut -d ',' -f 2-\"\n",
    "    all_col = subprocess.check_output(command, shell=True).rstrip()\n",
    "    all_col = all_col.decode(\"utf-8\")\n",
    "    columns = all_col.split(',')\n",
    "\n",
    "    # Read a CSV file\n",
    "    df = pd.read_csv(fname, usecols=columns)\n",
    "\n",
    "    # Plot the lines\n",
    "    df.plot()\n",
    "    plt.show()\n",
    "    \n",
    "def graph_plots(fname1, fname2):\n",
    "    graph_evo_out(fname1)\n",
    "    # graph_evo_out(fname2)"
   ]
  },
  {
   "cell_type": "code",
   "execution_count": null,
   "id": "40e94f29-99fb-4828-8a99-6139973e8bda",
   "metadata": {},
   "outputs": [],
   "source": []
  },
  {
   "cell_type": "markdown",
   "id": "c7cc7cc3-16a9-460f-91ce-36ceb214df44",
   "metadata": {},
   "source": [
    "### Notes: \n",
    "0. No predators - mode 0 \n",
    "- No predators in the environment \n",
    "- Organisms only die from old age \n",
    "1. No altruism - mode 1 \n",
    "- Organisms eat from a tree \n",
    "- Some trees have predators in them \n",
    "- Individuals that visit trees with predators get eaten \n",
    "- If individual does not get eaten, it reproduces \n",
    "\n",
    "2. Altruism - mode 2\n",
    "- When an individual visits a tree with a predator, it has 2 options: \n",
    "    1. Gene1 allele1: runs away (leaving others to die) \n",
    "    2. Gene1 allele2: yells/warsns others of predator (increase the chance of being eaten)\n",
    "\n",
    "3. Green beard altruism - mode 3\n",
    "- All individuals with the altruism allele has phylogenetic green beard feature \n",
    "    - Altruistic individuals will only warn those with the green beard of predators \n",
    "\n",
    "4. More complicated green beard altruism - mode 4 \n",
    "- Gene1: \n",
    "    - Allele A: altruism towards other green beards\n",
    "    - Allele a: no altruism \n",
    "- Gene2: \n",
    "    - Allele B: no green beard\n",
    "    - Allele b: green beard \n",
    "- 4 possible combinations: \n",
    "    1. Beard + altruism \n",
    "    2. Beard + no altruism \n",
    "    3. No beard + no altruism \n",
    "    4. No beard + altruism \n",
    "\n",
    "5. Green beard altruism linkage - mode 5 \n",
    "- The altruism gene and green beard gene can be linked based on user input. "
   ]
  },
  {
   "cell_type": "markdown",
   "id": "ae9815ab-58e9-4953-bd98-705a44b3c0d0",
   "metadata": {},
   "source": [
    "### Notes on the Genes that each Individual can have\n",
    "Some genes are assigned a number in the range of 0-10, 0 means that gene is not very effective at the function, where as 10 means the gene is very effective at the assigned function. \n",
    "Sum of the numbers from the genes should not exceed the (number of genes x 4) - this aims to simulate evolutionary cost. \n",
    "The traits currently include (more can be added):\n",
    "1. Ability to sense predator - higher number means higher chance of sensing presence of a predator before approaching a food source \n",
    "2. Ability to sense food - not all food sources will have food available, therefore this will allow for organism to better find food (there is limited energy to find food) \n",
    "3. Ability to run away from predator - if individual runs into predator, it has the ability to run away\n",
    "4. Energy - probability individual has more than the base energy (base energy provided in config) \n",
    "5. Mutation rate - probability that genetic information inherited by offspring will mutate \n",
    "  \n",
    "Genes that are either 0 or 1 - the individual has it or it doesn't\n",
    "4. Ability to alert others who are also altruistic  \n",
    "5. Phenotypic marker of altruistic trait - if individual has this trait, others who are altruistic will alert this individual of predators"
   ]
  },
  {
   "cell_type": "markdown",
   "id": "3d34a92d-f65e-4b91-a922-2b12ce753931",
   "metadata": {},
   "source": [
    "#### Notes on Population Growth:\n",
    "- Test to make sure parameters for population is enough so that individuals are able to replace itself steadily \n",
    "- 1 = population # remains the same after everyday - able to make a copy of itself \n",
    "- 2 = "
   ]
  }
 ],
 "metadata": {
  "kernelspec": {
   "display_name": "Python 3.9 (Default)",
   "language": "python",
   "name": "python3"
  },
  "language_info": {
   "codemirror_mode": {
    "name": "ipython",
    "version": 3
   },
   "file_extension": ".py",
   "mimetype": "text/x-python",
   "name": "python",
   "nbconvert_exporter": "python",
   "pygments_lexer": "ipython3",
   "version": "3.9.7"
  }
 },
 "nbformat": 4,
 "nbformat_minor": 5
}
