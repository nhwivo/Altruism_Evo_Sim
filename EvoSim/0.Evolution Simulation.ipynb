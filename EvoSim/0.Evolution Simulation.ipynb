{
 "cells": [
  {
   "cell_type": "code",
   "execution_count": 18,
   "id": "a4b02e48-904f-4686-9b43-60e0896cfbb7",
   "metadata": {},
   "outputs": [
    {
     "name": "stdout",
     "output_type": "stream",
     "text": [
      "All data below are collected at the end of the simulation.\n",
      "\n",
      "Number of individuals: 20\n",
      "Status of individuals - should be 1: [1, 1, 1, 1, 1, 1, 1, 1, 1, 1, 1, 1, 1, 1, 1, 1, 1, 1, 1, 1]\n",
      "Age of individuals: [53, 55, 32, 34, 34, 34, 34, 33, 32, 32, 32, 31, 31, 31, 30, 27, 27, 26, 25, 21]\n",
      "\n",
      "Individual population number for all days and all runs: \n",
      "[[100, 100, 100, 100, 100, 100, 100, 100, 100, 100, 100, 100, 100, 100, 100, 99, 100, 99, 102, 101, 99, 97, 95, 97, 96, 93, 87, 83, 81, 75, 72, 70, 64, 63, 60, 57, 54, 50, 45, 41, 39, 35, 33, 29, 26, 24, 22, 22, 21, 20]]\n",
      "\n",
      "Number of food sources: 6\n",
      "Predator presence in food source:  [False, True, False, False, False, False]\n",
      "Food unit - should be 4: [4, 4, 4, 4, 4, 4]\n",
      "\n",
      "Food source population number for all days and all runs: \n",
      "[[25, 25, 25, 25, 25, 25, 25, 25, 25, 25, 25, 25, 25, 25, 25, 25, 25, 25, 25, 26, 26, 25, 25, 24, 25, 24, 24, 22, 21, 21, 19, 18, 18, 16, 16, 15, 15, 14, 13, 12, 11, 10, 9, 9, 8, 7, 6, 6, 6, 6]]\n"
     ]
    }
   ],
   "source": [
    "!python test_evomain.py 100 50"
   ]
  },
  {
   "cell_type": "code",
   "execution_count": null,
   "id": "25db0718-f408-42c8-a87e-d196d4ba95b2",
   "metadata": {},
   "outputs": [],
   "source": []
  }
 ],
 "metadata": {
  "kernelspec": {
   "display_name": "Python 3.9 (Default)",
   "language": "python",
   "name": "python3"
  },
  "language_info": {
   "codemirror_mode": {
    "name": "ipython",
    "version": 3
   },
   "file_extension": ".py",
   "mimetype": "text/x-python",
   "name": "python",
   "nbconvert_exporter": "python",
   "pygments_lexer": "ipython3",
   "version": "3.9.7"
  }
 },
 "nbformat": 4,
 "nbformat_minor": 5
}
