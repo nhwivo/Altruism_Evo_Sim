{
 "cells": [
  {
   "cell_type": "code",
   "execution_count": 47,
   "id": "a4b02e48-904f-4686-9b43-60e0896cfbb7",
   "metadata": {},
   "outputs": [
    {
     "name": "stdout",
     "output_type": "stream",
     "text": [
      "All data below are from the end of the simulation.\n",
      "\n",
      "Number of individuals: 24\n",
      "Status of individuals - should be 1: [1, 1, 1, 1, 1, 1, 1, 1, 1, 1, 1, 1, 1, 1, 1, 1, 1, 1, 1, 1, 1, 1, 1, 1]\n",
      "Age of individuals: [55, 55, 30, 34, 33, 32, 32, 30, 29, 29, 28, 28, 27, 27, 26, 26, 26, 25, 25, 25, 24, 23, 23, 23]\n",
      "\n",
      "Individual population number for all days and all runs: \n",
      "[[100, 100, 100, 100, 100, 100, 100, 100, 100, 100, 100, 100, 100, 100, 100, 97, 96, 95, 92, 87, 85, 83, 83, 84, 81, 82, 78, 78, 75, 75, 71, 65, 65, 62, 59, 55, 53, 47, 44, 43, 40, 38, 37, 35, 31, 31, 28, 26, 25, 24], [100, 100, 100, 100, 100, 100, 100, 100, 100, 100, 100, 100, 100, 100, 100, 97, 96, 95, 92, 87, 85, 83, 83, 84, 81, 82, 78, 78, 75, 75, 71, 65, 65, 62, 59, 55, 53, 47, 44, 43, 40, 38, 37, 35, 31, 31, 28, 26, 25, 24]]\n",
      "\n",
      "Number of food sources: 7\n",
      "Predator presence in food source:  [False, False, False, True, False, False, False]\n",
      "Food unit - should be 4: [4, 4, 4, 4, 4, 4, 4]\n",
      "\n",
      "Food source population number for all days and all runs: \n",
      "[[25, 25, 25, 25, 25, 25, 25, 25, 25, 25, 25, 25, 25, 25, 25, 25, 25, 24, 24, 23, 22, 22, 21, 21, 21, 21, 21, 20, 20, 19, 19, 18, 17, 17, 16, 15, 14, 14, 12, 11, 11, 10, 10, 10, 9, 8, 8, 7, 7, 7], [25, 25, 25, 25, 25, 25, 25, 25, 25, 25, 25, 25, 25, 25, 25, 25, 25, 24, 24, 23, 22, 22, 21, 21, 21, 21, 21, 20, 20, 19, 19, 18, 17, 17, 16, 15, 14, 14, 12, 11, 11, 10, 10, 10, 9, 8, 8, 7, 7, 7]]\n"
     ]
    }
   ],
   "source": [
    "!python test_evomain.py 100 50"
   ]
  },
  {
   "cell_type": "code",
   "execution_count": null,
   "id": "25db0718-f408-42c8-a87e-d196d4ba95b2",
   "metadata": {},
   "outputs": [],
   "source": []
  }
 ],
 "metadata": {
  "kernelspec": {
   "display_name": "Python 3.9 (Default)",
   "language": "python",
   "name": "python3"
  },
  "language_info": {
   "codemirror_mode": {
    "name": "ipython",
    "version": 3
   },
   "file_extension": ".py",
   "mimetype": "text/x-python",
   "name": "python",
   "nbconvert_exporter": "python",
   "pygments_lexer": "ipython3",
   "version": "3.9.7"
  }
 },
 "nbformat": 4,
 "nbformat_minor": 5
}
