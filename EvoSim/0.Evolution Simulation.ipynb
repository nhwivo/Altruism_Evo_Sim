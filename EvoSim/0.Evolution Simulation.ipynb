{
 "cells": [
  {
   "cell_type": "code",
   "execution_count": 55,
   "id": "a4b02e48-904f-4686-9b43-60e0896cfbb7",
   "metadata": {},
   "outputs": [
    {
     "name": "stdout",
     "output_type": "stream",
     "text": [
      "All data below are collected at the end of the simulation.\n",
      "\n",
      "Number of individuals: 1\n",
      "Status of individuals - should be 1: [1]\n",
      "Age of individuals: [55]\n",
      "\n",
      "Individual population number for all days and all runs: \n",
      "[[100, 100, 100, 100, 100, 100, 100, 100, 100, 100, 100, 100, 100, 100, 100, 96, 90, 88, 87, 86, 85, 81, 78, 73, 71, 70, 67, 65, 62, 57, 52, 50, 45, 42, 39, 37, 33, 26, 22, 20, 18, 17, 14, 11, 8, 5, 3, 2, 2, 1]]\n",
      "\n",
      "Number of food sources: 1\n",
      "Predator presence in food source:  [True]\n",
      "Food unit - should be 4: [4]\n",
      "\n",
      "Food source population number for all days and all runs: \n",
      "[[25, 25, 25, 25, 25, 25, 25, 25, 25, 25, 25, 25, 25, 25, 25, 25, 24, 23, 22, 22, 22, 22, 21, 20, 19, 18, 18, 17, 17, 16, 15, 13, 13, 12, 11, 10, 10, 9, 7, 6, 5, 5, 5, 4, 3, 2, 2, 1, 1, 1]]\n"
     ]
    }
   ],
   "source": [
    "!python test_evomain.py 100 50"
   ]
  },
  {
   "cell_type": "code",
   "execution_count": null,
   "id": "0c563572-a2eb-482e-b120-01456c5ce313",
   "metadata": {},
   "outputs": [],
   "source": []
  }
 ],
 "metadata": {
  "kernelspec": {
   "display_name": "Python 3.9 (Default)",
   "language": "python",
   "name": "python3"
  },
  "language_info": {
   "codemirror_mode": {
    "name": "ipython",
    "version": 3
   },
   "file_extension": ".py",
   "mimetype": "text/x-python",
   "name": "python",
   "nbconvert_exporter": "python",
   "pygments_lexer": "ipython3",
   "version": "3.9.7"
  }
 },
 "nbformat": 4,
 "nbformat_minor": 5
}
