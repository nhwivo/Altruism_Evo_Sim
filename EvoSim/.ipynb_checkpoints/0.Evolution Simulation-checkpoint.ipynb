{
 "cells": [
  {
   "cell_type": "code",
   "execution_count": 3,
   "id": "a4b02e48-904f-4686-9b43-60e0896cfbb7",
   "metadata": {},
   "outputs": [],
   "source": [
    "!python test_evomain.py 100 10"
   ]
  },
  {
   "cell_type": "code",
   "execution_count": null,
   "id": "25db0718-f408-42c8-a87e-d196d4ba95b2",
   "metadata": {},
   "outputs": [],
   "source": [
    "import pandas as pd\n",
    "from matplotlib import pyplot as plt\n",
    "import subprocess\n",
    "\n",
    "def graph_evo_out(fname):\n",
    "    # Set the figure size\n",
    "    plt.rcParams[\"figure.figsize\"] = [7.00, 3.50]\n",
    "    plt.rcParams[\"figure.autolayout\"] = True\n",
    "\n",
    "    # Make a list of columns\n",
    "    command = \"head -n 1 \" + fname + \" | cut -d ',' -f 2,3,4,5\"\n",
    "    all_col = subprocess.check_output(command, shell=True).rstrip()\n",
    "    all_col = all_col.decode(\"utf-8\")\n",
    "    columns = all_col.split(',')\n",
    "\n",
    "    # Read a CSV file\n",
    "    df = pd.read_csv(fname, usecols=columns)\n",
    "\n",
    "    # Plot the lines\n",
    "    df.plot()\n",
    "    plt.show()\n",
    "    \n",
    "def graph_plots(fname1, fname2):\n",
    "    graph_evo_out(fname1)\n",
    "    graph_evo_out(fname2)"
   ]
  },
  {
   "cell_type": "code",
   "execution_count": null,
   "id": "1ca96912-5112-499f-ad80-d6d49516f99a",
   "metadata": {},
   "outputs": [],
   "source": [
    "fname1 = \"sim_output/ind_population_data.csv\"\n",
    "fname2 = \"sim_output/fsource_population_data.csv\"\n",
    "\n",
    "graph_plots(fname1, fname2)"
   ]
  },
  {
   "cell_type": "code",
   "execution_count": null,
   "id": "51a583ce-c9da-46c9-b6bf-01260e84d187",
   "metadata": {},
   "outputs": [],
   "source": []
  }
 ],
 "metadata": {
  "kernelspec": {
   "display_name": "Python 3.9 (Default)",
   "language": "python",
   "name": "python3"
  },
  "language_info": {
   "codemirror_mode": {
    "name": "ipython",
    "version": 3
   },
   "file_extension": ".py",
   "mimetype": "text/x-python",
   "name": "python",
   "nbconvert_exporter": "python",
   "pygments_lexer": "ipython3",
   "version": "3.9.7"
  }
 },
 "nbformat": 4,
 "nbformat_minor": 5
}
