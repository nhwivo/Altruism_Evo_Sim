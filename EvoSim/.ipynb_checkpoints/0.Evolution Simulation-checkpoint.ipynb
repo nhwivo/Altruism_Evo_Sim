{
 "cells": [
  {
   "cell_type": "code",
   "execution_count": 35,
   "id": "a4b02e48-904f-4686-9b43-60e0896cfbb7",
   "metadata": {},
   "outputs": [
    {
     "name": "stdout",
     "output_type": "stream",
     "text": [
      "All data below are collected at the end of the simulation.\n",
      "\n",
      "Number of individuals: 0\n",
      "List of individuals: []\n",
      "Status of individuals at end of sim: []\n",
      "\n",
      "Number of food sources: 28\n",
      "List of food sources: [<FoodSource.FoodSource object at 0x2b321bcd9730>, <FoodSource.FoodSource object at 0x2b321bcd97c0>, <FoodSource.FoodSource object at 0x2b321bcd9850>, <FoodSource.FoodSource object at 0x2b321bcd98e0>, <FoodSource.FoodSource object at 0x2b321bcd9970>, <FoodSource.FoodSource object at 0x2b321bcd9a00>, <FoodSource.FoodSource object at 0x2b321bcd9a90>, <FoodSource.FoodSource object at 0x2b321bcd9b20>, <FoodSource.FoodSource object at 0x2b321bcd9bb0>, <FoodSource.FoodSource object at 0x2b321bcd9c40>, <FoodSource.FoodSource object at 0x2b321bcd9cd0>, <FoodSource.FoodSource object at 0x2b321bcd9d60>, <FoodSource.FoodSource object at 0x2b321bcd9df0>, <FoodSource.FoodSource object at 0x2b321bcf2670>, <FoodSource.FoodSource object at 0x2b321bcf25e0>, <FoodSource.FoodSource object at 0x2b321bcf2550>, <FoodSource.FoodSource object at 0x2b321bcf24c0>, <FoodSource.FoodSource object at 0x2b321bcf2430>, <FoodSource.FoodSource object at 0x2b321bcf23a0>, <FoodSource.FoodSource object at 0x2b321bcf2310>, <FoodSource.FoodSource object at 0x2b321bcf2280>, <FoodSource.FoodSource object at 0x2b321bcf21f0>, <FoodSource.FoodSource object at 0x2b321bcf2130>, <FoodSource.FoodSource object at 0x2b321bcf20a0>, <FoodSource.FoodSource object at 0x2b321bcf2700>, <FoodSource.FoodSource object at 0x2b321bcf2790>, <FoodSource.FoodSource object at 0x2b321bcf2820>, <FoodSource.FoodSource object at 0x2b321bcf28b0>]\n",
      "Predator presence in food source at end of sim:  [False, False, False, False, False, False, False, False, False, False, False, False, False, True, False, False, False, False, False, False, False, False, False, False, False, False, False, False]\n"
     ]
    }
   ],
   "source": [
    "!python test_evomain.py 100 200"
   ]
  },
  {
   "cell_type": "code",
   "execution_count": null,
   "id": "0c563572-a2eb-482e-b120-01456c5ce313",
   "metadata": {},
   "outputs": [],
   "source": []
  }
 ],
 "metadata": {
  "kernelspec": {
   "display_name": "Python 3.9 (Default)",
   "language": "python",
   "name": "python3"
  },
  "language_info": {
   "codemirror_mode": {
    "name": "ipython",
    "version": 3
   },
   "file_extension": ".py",
   "mimetype": "text/x-python",
   "name": "python",
   "nbconvert_exporter": "python",
   "pygments_lexer": "ipython3",
   "version": "3.9.7"
  }
 },
 "nbformat": 4,
 "nbformat_minor": 5
}
