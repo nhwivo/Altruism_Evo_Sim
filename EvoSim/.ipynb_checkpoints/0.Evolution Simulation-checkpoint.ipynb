{
 "cells": [
  {
   "cell_type": "code",
   "execution_count": 12,
   "id": "a4b02e48-904f-4686-9b43-60e0896cfbb7",
   "metadata": {},
   "outputs": [
    {
     "name": "stdout",
     "output_type": "stream",
     "text": [
      "All data below are collected at the end of the simulation.\n",
      "\n",
      "Number of individuals: 30\n",
      "Status of individuals - should be 1: [1, 1, 1, 1, 1, 1, 1, 1, 1, 1, 1, 1, 1, 1, 1, 1, 1, 1, 1, 1, 1, 1, 1, 1, 1, 1, 1, 1, 1, 1]\n",
      "Age of individuals: [55, 30, 34, 34, 34, 34, 34, 34, 34, 34, 34, 34, 33, 33, 33, 32, 32, 31, 31, 30, 30, 30, 29, 28, 27, 27, 26, 25, 25, 24]\n",
      "\n",
      "Individual population number for all days and all runs: \n",
      "[[100, 100, 100, 100, 100, 100, 100, 100, 100, 100, 100, 100, 100, 100, 100, 98, 106, 106, 103, 100, 98, 96, 95, 96, 95, 96, 96, 91, 89, 85, 82, 81, 75, 72, 67, 61, 58, 55, 49, 46, 44, 39, 39, 38, 37, 36, 34, 32, 31, 30]]\n",
      "\n",
      "Number of food sources: 8\n",
      "Predator presence in food source:  [False, False, False, False, True, False, False, False]\n",
      "Food unit - should be 4: [4, 4, 4, 4, 4, 4, 4, 4]\n",
      "\n",
      "Food source population number for all days and all runs: \n",
      "[[25, 25, 25, 25, 25, 25, 25, 25, 25, 25, 25, 25, 25, 25, 25, 25, 25, 27, 27, 26, 25, 25, 24, 24, 24, 24, 24, 24, 23, 23, 22, 21, 21, 19, 18, 17, 16, 15, 14, 13, 12, 11, 10, 10, 10, 10, 9, 9, 8, 8]]\n"
     ]
    }
   ],
   "source": [
    "!python test_evomain.py 100 50"
   ]
  },
  {
   "cell_type": "code",
   "execution_count": null,
   "id": "25db0718-f408-42c8-a87e-d196d4ba95b2",
   "metadata": {},
   "outputs": [],
   "source": []
  }
 ],
 "metadata": {
  "kernelspec": {
   "display_name": "Python 3.9 (Default)",
   "language": "python",
   "name": "python3"
  },
  "language_info": {
   "codemirror_mode": {
    "name": "ipython",
    "version": 3
   },
   "file_extension": ".py",
   "mimetype": "text/x-python",
   "name": "python",
   "nbconvert_exporter": "python",
   "pygments_lexer": "ipython3",
   "version": "3.9.7"
  }
 },
 "nbformat": 4,
 "nbformat_minor": 5
}
